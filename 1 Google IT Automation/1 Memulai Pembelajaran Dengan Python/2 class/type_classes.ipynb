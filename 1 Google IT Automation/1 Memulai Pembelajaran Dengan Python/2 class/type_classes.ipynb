{
 "cells": [
  {
   "cell_type": "markdown",
   "metadata": {},
   "source": [
    "## 3 Types of Methods in a Class\n",
    "- Object Method\n",
    "- Class Method\n",
    "- Static Method"
   ]
  },
  {
   "cell_type": "code",
   "execution_count": 4,
   "metadata": {},
   "outputs": [
    {
     "name": "stdout",
     "output_type": "stream",
     "text": [
      "Hello,  Theo\n"
     ]
    }
   ],
   "source": [
    "# Object Method\n",
    "class ObjectMethod():\n",
    "    def __init__(self, nama):\n",
    "        self.nama = nama\n",
    "    \n",
    "    def say_hello(self):\n",
    "        print(\"Hello, \", self.nama)\n",
    "\n",
    "kalk = ObjectMethod(\"Theo\")\n",
    "kalk.say_hello() # Same with Kalkulator.say_hello(kalk)"
   ]
  },
  {
   "cell_type": "code",
   "execution_count": 3,
   "metadata": {},
   "outputs": [
    {
     "name": "stdout",
     "output_type": "stream",
     "text": [
      "Hello,  <class '__main__.ClassMethod'>\n",
      "Hello,  <class '__main__.ClassMethod'>\n"
     ]
    }
   ],
   "source": [
    "# Class Method\n",
    "class ClassMethod():\n",
    "    def __init__(self, nama):\n",
    "        self.nama = nama\n",
    "    \n",
    "    @classmethod\n",
    "    def say_hello(cls):\n",
    "        print(\"Hello, \", cls)\n",
    "\n",
    "kalk = ClassMethod(\"Theo\")\n",
    "ClassMethod.say_hello()\n",
    "kalk.say_hello()"
   ]
  },
  {
   "cell_type": "code",
   "execution_count": 7,
   "metadata": {},
   "outputs": [
    {
     "name": "stdout",
     "output_type": "stream",
     "text": [
      "Hello, \n",
      "Hello, \n"
     ]
    }
   ],
   "source": [
    "# Static Method\n",
    "class ClassMethod():\n",
    "    def __init__(self, nama):\n",
    "        self.nama = nama\n",
    "    \n",
    "    @staticmethod\n",
    "    def say_hello():\n",
    "        print(\"Hello, \")\n",
    "\n",
    "kalk = ClassMethod(\"Theo\")\n",
    "ClassMethod.say_hello()\n",
    "kalk.say_hello()"
   ]
  }
 ],
 "metadata": {
  "interpreter": {
   "hash": "b3ba2566441a7c06988d0923437866b63cedc61552a5af99d1f4fb67d367b25f"
  },
  "kernelspec": {
   "display_name": "Python 3.8.5 ('base')",
   "language": "python",
   "name": "python3"
  },
  "language_info": {
   "codemirror_mode": {
    "name": "ipython",
    "version": 3
   },
   "file_extension": ".py",
   "mimetype": "text/x-python",
   "name": "python",
   "nbconvert_exporter": "python",
   "pygments_lexer": "ipython3",
   "version": "3.8.5"
  },
  "orig_nbformat": 4
 },
 "nbformat": 4,
 "nbformat_minor": 2
}
