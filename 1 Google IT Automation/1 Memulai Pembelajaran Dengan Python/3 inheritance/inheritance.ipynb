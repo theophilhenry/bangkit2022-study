{
 "cells": [
  {
   "cell_type": "code",
   "execution_count": 9,
   "metadata": {},
   "outputs": [
    {
     "name": "stdout",
     "output_type": "stream",
     "text": [
      "Nilai saat ini adalah :  11\n",
      "11\n",
      "Nilai saat ini adalah :  25\n",
      "25\n"
     ]
    }
   ],
   "source": [
    "class Kalkulator:\n",
    "    def __init__(self, nilai):\n",
    "        self.nilai = nilai\n",
    "\n",
    "    def print_nilai(self):\n",
    "        print(\"Nilai saat ini adalah : \", self.nilai)\n",
    "\n",
    "    def tambah_angka(self, angka1, angka2):\n",
    "        self.nilai = angka1 + angka2\n",
    "        if(angka1 + angka2 > 9):\n",
    "            print(\"Failed to Execute : More than 9\")\n",
    "        return self.nilai\n",
    "        \n",
    "class KalkulatorKali(Kalkulator):\n",
    "    def kali_angka(self, angka1, angka2):\n",
    "        self.nilai = angka1 * angka2\n",
    "        super().print_nilai()\n",
    "        return self.nilai\n",
    "\n",
    "    # Overriding Methods\n",
    "    def tambah_angka(self, angka1, angka2):\n",
    "        self.nilai = angka1 + angka2\n",
    "        super().print_nilai()\n",
    "        return self.nilai\n",
    "\n",
    "my_calc = KalkulatorKali(5)\n",
    "print(my_calc.tambah_angka(6, 5))\n",
    "print(my_calc.kali_angka(5, 5))"
   ]
  },
  {
   "cell_type": "code",
   "execution_count": 11,
   "metadata": {},
   "outputs": [
    {
     "ename": "AttributeError",
     "evalue": "'Pegawai' object has no attribute 'z'",
     "output_type": "error",
     "traceback": [
      "\u001b[1;31m---------------------------------------------------------------------------\u001b[0m",
      "\u001b[1;31mAttributeError\u001b[0m                            Traceback (most recent call last)",
      "\u001b[1;32m<ipython-input-11-061822b16c0b>\u001b[0m in \u001b[0;36m<module>\u001b[1;34m\u001b[0m\n\u001b[0;32m      5\u001b[0m \u001b[0mdon\u001b[0m\u001b[1;33m.\u001b[0m\u001b[0mnama\u001b[0m \u001b[1;33m=\u001b[0m \u001b[1;34m\"Hello\"\u001b[0m\u001b[1;33m\u001b[0m\u001b[1;33m\u001b[0m\u001b[0m\n\u001b[0;32m      6\u001b[0m \u001b[1;33m\u001b[0m\u001b[0m\n\u001b[1;32m----> 7\u001b[1;33m \u001b[0mprint\u001b[0m\u001b[1;33m(\u001b[0m\u001b[0mdon\u001b[0m\u001b[1;33m.\u001b[0m\u001b[0mz\u001b[0m\u001b[1;33m)\u001b[0m\u001b[1;33m\u001b[0m\u001b[1;33m\u001b[0m\u001b[0m\n\u001b[0m",
      "\u001b[1;31mAttributeError\u001b[0m: 'Pegawai' object has no attribute 'z'"
     ]
    }
   ],
   "source": [
    "class Pegawai:\n",
    "    pass\n",
    "\n",
    "don = Pegawai()\n",
    "don.nama = \"Hello\"\n",
    "\n",
    "print(don.nama)"
   ]
  }
 ],
 "metadata": {
  "interpreter": {
   "hash": "b3ba2566441a7c06988d0923437866b63cedc61552a5af99d1f4fb67d367b25f"
  },
  "kernelspec": {
   "display_name": "Python 3.8.5 ('base')",
   "language": "python",
   "name": "python3"
  },
  "language_info": {
   "codemirror_mode": {
    "name": "ipython",
    "version": 3
   },
   "file_extension": ".py",
   "mimetype": "text/x-python",
   "name": "python",
   "nbconvert_exporter": "python",
   "pygments_lexer": "ipython3",
   "version": "3.8.5"
  },
  "orig_nbformat": 4
 },
 "nbformat": 4,
 "nbformat_minor": 2
}
