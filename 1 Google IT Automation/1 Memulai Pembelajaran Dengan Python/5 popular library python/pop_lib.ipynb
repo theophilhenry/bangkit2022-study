{
 "cells": [
  {
   "cell_type": "code",
   "execution_count": 1,
   "metadata": {},
   "outputs": [],
   "source": [
    "# Pickle\n",
    "import pickle\n",
    "contoh_dictionary = {1:\"6\", 2:\"2\", 3:\"f\"}\n",
    "pickle_keluar = open(\"dict.pickle\",\"wb\")\n",
    "pickle.dump(contoh_dictionary, pickle_keluar)\n",
    "pickle_keluar.close()"
   ]
  },
  {
   "cell_type": "code",
   "execution_count": 3,
   "metadata": {},
   "outputs": [
    {
     "name": "stdout",
     "output_type": "stream",
     "text": [
      "{1: '6', 2: '2', 3: 'f'}\n"
     ]
    }
   ],
   "source": [
    "pickle_masuk = open(\"dict.pickle\",\"rb\")\n",
    "contoh_dictionary = pickle.load(pickle_masuk)\n",
    "print(contoh_dictionary)"
   ]
  },
  {
   "cell_type": "code",
   "execution_count": 7,
   "metadata": {},
   "outputs": [
    {
     "name": "stdout",
     "output_type": "stream",
     "text": [
      "Theo\n"
     ]
    }
   ],
   "source": [
    "# JSON\n",
    "import json\n",
    "\n",
    "data = '{ \"name\" : \"Theo\", \"age\": \"12\", \"city\":\"New York\" }'\n",
    "json_data = json.loads(data)\n",
    "print(json_data['name'])"
   ]
  },
  {
   "cell_type": "code",
   "execution_count": 14,
   "metadata": {},
   "outputs": [
    {
     "data": {
      "text/plain": [
       "'Welcome to Python.org'"
      ]
     },
     "execution_count": 14,
     "metadata": {},
     "output_type": "execute_result"
    }
   ],
   "source": [
    "# Web Scrapping\n",
    "# URRLIB\n",
    "from urllib.request import urlopen\n",
    "\n",
    "url = \"http://python.org/\"\n",
    "page = urlopen(url)\n",
    "html = page.read().decode(\"utf-8\")\n",
    "start_index = html.find(\"<title>\") + len(\"<title>\")\n",
    "end_index = html.find(\"</title>\")\n",
    "title = html[start_index:end_index]\n",
    "title"
   ]
  },
  {
   "cell_type": "code",
   "execution_count": 15,
   "metadata": {},
   "outputs": [
    {
     "data": {
      "text/plain": [
       "<title>Welcome to Python.org</title>"
      ]
     },
     "execution_count": 15,
     "metadata": {},
     "output_type": "execute_result"
    }
   ],
   "source": [
    "# Web Scrapping\n",
    "# Beautiful Soup\n",
    "from bs4 import BeautifulSoup\n",
    "\n",
    "url = \"http://python.org/\"\n",
    "page = urlopen(url)\n",
    "html = page.read().decode(\"utf-8\")\n",
    "soup = BeautifulSoup(html, \"html.parser\")\n",
    "soup.title"
   ]
  },
  {
   "cell_type": "code",
   "execution_count": 16,
   "metadata": {},
   "outputs": [
    {
     "name": "stdout",
     "output_type": "stream",
     "text": [
      "Pencarian berhasil.\n"
     ]
    }
   ],
   "source": [
    "import re\n",
    " \n",
    "pola= '^a...s$'\n",
    "string_tes= 'abyss'\n",
    "hasil= re.match(pola, string_tes)\n",
    " \n",
    "if hasil:\n",
    "    print(\"Pencarian berhasil.\")\n",
    "else:\n",
    "    print(\"Pencarian gagal.\") "
   ]
  },
  {
   "cell_type": "code",
   "execution_count": null,
   "metadata": {},
   "outputs": [],
   "source": []
  }
 ],
 "metadata": {
  "interpreter": {
   "hash": "b3ba2566441a7c06988d0923437866b63cedc61552a5af99d1f4fb67d367b25f"
  },
  "kernelspec": {
   "display_name": "Python 3.8.5 ('base')",
   "language": "python",
   "name": "python3"
  },
  "language_info": {
   "codemirror_mode": {
    "name": "ipython",
    "version": 3
   },
   "file_extension": ".py",
   "mimetype": "text/x-python",
   "name": "python",
   "nbconvert_exporter": "python",
   "pygments_lexer": "ipython3",
   "version": "3.8.5"
  },
  "orig_nbformat": 4
 },
 "nbformat": 4,
 "nbformat_minor": 2
}
